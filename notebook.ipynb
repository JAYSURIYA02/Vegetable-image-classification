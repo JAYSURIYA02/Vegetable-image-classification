{
 "cells": [
  {
   "cell_type": "code",
   "execution_count": null,
   "id": "29fad917-3d21-4e0d-b84a-c0fc39ad99a3",
   "metadata": {},
   "outputs": [],
   "source": [
    "import os\n",
    "import cv2\n",
    "import numpy as np\n",
    "from sklearn.svm import SVC\n",
    "from sklearn.ensemble import RandomForestClassifier\n",
    "from sklearn.model_selection import train_test_split\n",
    "from sklearn.metrics import accuracy_score\n",
    "from sklearn.model_selection import GridSearchCV\n",
    "import joblib "
   ]
  },
  {
   "cell_type": "code",
   "execution_count": null,
   "id": "c9a7b41d-66f5-4d3c-ac49-7e820fd266ef",
   "metadata": {},
   "outputs": [],
   "source": [
    "path = r\"Vegetable_images\"\n",
    "data =[]\n",
    "labels = []\n",
    "\n",
    "categories = os.listdir(path)\n",
    "for category in categories:\n",
    "  terms = os.path.join(path, category)\n",
    "  vege_name = os.listdir(terms)\n",
    "  for vege_ind,vege in enumerate(vege_name):\n",
    "    inpath = os.path.join(terms, vege)\n",
    "    for img in os.listdir(inpath):\n",
    "      img_array = cv2.imread(os.path.join(inpath, img))\n",
    "      resized_array = cv2.resize(img_array, (15, 15))\n",
    "      flattened_array = resized_array.flatten()\n",
    "      data.append(flattened_array)\n",
    "      labels.append(vege_ind)\n",
    "\n",
    "x = np.array(data)\n",
    "y = np.array(labels)"
   ]
  },
  {
   "cell_type": "code",
   "execution_count": null,
   "id": "5e25d511-dc19-436b-bf69-5635fcc802d7",
   "metadata": {},
   "outputs": [
    {
     "name": "stdout",
     "output_type": "stream",
     "text": [
      "Accuracy:  78.86666666666666\n"
     ]
    },
    {
     "data": {
      "text/plain": [
       "['svm_vegetable_model.pkl']"
      ]
     },
     "execution_count": 1,
     "metadata": {},
     "output_type": "execute_result"
    }
   ],
   "source": [
    "x_train, x_test, y_train, y_test = train_test_split(x, y, test_size=0.2, random_state=42, stratify=y,shuffle=True)\n",
    "\"\"\"\n",
    "Classifier =SVC(C=1, gamma=0.01,verbose=3)\n",
    "Classifier.fit(x_train, y_train)\n",
    "\"\"\"\n",
    "Classifier = RandomForestClassifier(n_estimators=100, random_state=42,n_jobs=-1)\n",
    "Classifier.fit(x_train, y_train)\n",
    "\n",
    "y_pred = Classifier.predict(x_test)\n",
    "\n",
    "score = accuracy_score(y_test, y_pred)\n",
    "print(\"Accuracy: \", score * 100)\n",
    "\n",
    "# Save the trained model\n",
    "joblib.dump((Classifier,vege_name),'svm_vegetable_model.pkl')"
   ]
  },
  {
   "cell_type": "code",
   "execution_count": 3,
   "id": "9d0d4941-a48f-42b4-80a7-818a0733ffac",
   "metadata": {},
   "outputs": [
    {
     "name": "stdout",
     "output_type": "stream",
     "text": [
      "Model loaded successfully.\n"
     ]
    }
   ],
   "source": [
    "import joblib\n",
    "import cv2  \n",
    "\n",
    "classifier,vege_name= joblib.load('svm_vegetable_model.pkl')\n",
    "print(\"Model loaded successfully.\")\n",
    "cap = cv2.VideoCapture(0)\n",
    "while True:\n",
    "    ret, frame = cap.read()\n",
    "    if not ret:\n",
    "        break\n",
    "    resized_frame = cv2.resize(frame, (15, 15))\n",
    "    flattened_frame = resized_frame.flatten().reshape(1, -1)\n",
    "    prediction = classifier.predict(flattened_frame)\n",
    "\n",
    "\n",
    "    cv2.putText(frame, f'Predicted class: {vege_name[prediction[0]]}', (10, 30), cv2.FONT_HERSHEY_SIMPLEX, 1, (0, 255, 0), 2)\n",
    "    cv2.imshow('Webcam', frame)\n",
    "\n",
    "    if cv2.waitKey(1) & 0xFF == ord('q'):\n",
    "        break\n",
    "\n",
    "cap.release()\n",
    "cv2.destroyAllWindows()\n"
   ]
  },
  {
   "cell_type": "code",
   "execution_count": null,
   "id": "78aac535-3530-43b8-8560-93a229dd7a7b",
   "metadata": {},
   "outputs": [],
   "source": []
  },
  {
   "cell_type": "code",
   "execution_count": null,
   "id": "8619f646-4720-47ac-b4c7-e3b5c42e88f2",
   "metadata": {},
   "outputs": [],
   "source": []
  }
 ],
 "metadata": {
  "kernelspec": {
   "display_name": "myproject",
   "language": "python",
   "name": "python3"
  },
  "language_info": {
   "codemirror_mode": {
    "name": "ipython",
    "version": 3
   },
   "file_extension": ".py",
   "mimetype": "text/x-python",
   "name": "python",
   "nbconvert_exporter": "python",
   "pygments_lexer": "ipython3",
   "version": "3.11.13"
  }
 },
 "nbformat": 4,
 "nbformat_minor": 5
}
